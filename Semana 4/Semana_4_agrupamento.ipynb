{
  "nbformat": 4,
  "nbformat_minor": 0,
  "metadata": {
    "colab": {
      "name": "Semana_4_agrupamento.ipynb",
      "provenance": [],
      "authorship_tag": "ABX9TyOvRf2uBVG5aD7UmzfJpxfO",
      "include_colab_link": true
    },
    "kernelspec": {
      "name": "python3",
      "display_name": "Python 3"
    }
  },
  "cells": [
    {
      "cell_type": "markdown",
      "metadata": {
        "id": "view-in-github",
        "colab_type": "text"
      },
      "source": [
        "<a href=\"https://colab.research.google.com/github/leovaldesz/Atividades-Aprendizagem-de-m-quina/blob/master/Semana%204/Semana_4_agrupamento.ipynb\" target=\"_parent\"><img src=\"https://colab.research.google.com/assets/colab-badge.svg\" alt=\"Open In Colab\"/></a>"
      ]
    },
    {
      "cell_type": "markdown",
      "metadata": {
        "id": "yixetGLgMeFd",
        "colab_type": "text"
      },
      "source": [
        "## 1. Clássificação de insuficiência cardíaca"
      ]
    },
    {
      "cell_type": "markdown",
      "metadata": {
        "id": "ez0iSFdQMrWE",
        "colab_type": "text"
      },
      "source": [
        "*Dataset com atributos de pacientes que tiveram insuficiência cardíaca e um atributo classificador para se eles morreram ou não.\n",
        "*   `https://www.kaggle.com/andrewmvd/heart-failure-clinical-data`\n",
        "*   Atributos descrevem\n",
        "  *   Idade\n",
        "  *   Anemia\n",
        "  *   Creatinafosfoquinase\n",
        "  *   Diabetes\n",
        "  *   Fração de ejeção\n",
        "  *   Pressão sanguínea alta\n",
        "  *   Plaquetas\n",
        "  *   Creatinina sérica\n",
        "  *   Sódio sérico\n",
        "  *   Sexo\n",
        "  *   Fumante \n",
        "  *   Tempo\n",
        "  *   Evento de morte"
      ]
    },
    {
      "cell_type": "markdown",
      "metadata": {
        "id": "uIZkY5VXMwBK",
        "colab_type": "text"
      },
      "source": [
        "## 2. Montando o ambiente no google drive"
      ]
    },
    {
      "cell_type": "code",
      "metadata": {
        "id": "vPqVEsBdM36T",
        "colab_type": "code",
        "colab": {
          "base_uri": "https://localhost:8080/",
          "height": 34
        },
        "outputId": "05042adb-7083-4fff-f513-8837270bd1fe"
      },
      "source": [
        "from google.colab import drive\n",
        "drive.mount('/content/drive/')"
      ],
      "execution_count": 1,
      "outputs": [
        {
          "output_type": "stream",
          "text": [
            "Mounted at /content/drive/\n"
          ],
          "name": "stdout"
        }
      ]
    },
    {
      "cell_type": "markdown",
      "metadata": {
        "id": "14BkjLhTNE5w",
        "colab_type": "text"
      },
      "source": [
        "## 3. Carregando os dados na memória"
      ]
    },
    {
      "cell_type": "code",
      "metadata": {
        "id": "raS2TOQENPL6",
        "colab_type": "code",
        "colab": {}
      },
      "source": [
        "# Importando bibliotecas\n",
        "import pandas as pd\n",
        "import matplotlib.pyplot as plt\n",
        "from mpl_toolkits.mplot3d import Axes3D\n",
        "\n",
        "from sklearn.model_selection import train_test_split\n",
        "from sklearn.cluster import KMeans"
      ],
      "execution_count": 7,
      "outputs": []
    },
    {
      "cell_type": "code",
      "metadata": {
        "id": "CUnYV8tjNTO1",
        "colab_type": "code",
        "colab": {
          "base_uri": "https://localhost:8080/",
          "height": 224
        },
        "outputId": "7b98f084-ffa9-4972-8064-d9b998b7c774"
      },
      "source": [
        "#Lendo csv\n",
        "dados = pd.read_csv('/content/drive/My Drive/Colab Notebooks/datasets/heart_failure_clinical_records_dataset.csv')\n",
        "dados.head()"
      ],
      "execution_count": 3,
      "outputs": [
        {
          "output_type": "execute_result",
          "data": {
            "text/html": [
              "<div>\n",
              "<style scoped>\n",
              "    .dataframe tbody tr th:only-of-type {\n",
              "        vertical-align: middle;\n",
              "    }\n",
              "\n",
              "    .dataframe tbody tr th {\n",
              "        vertical-align: top;\n",
              "    }\n",
              "\n",
              "    .dataframe thead th {\n",
              "        text-align: right;\n",
              "    }\n",
              "</style>\n",
              "<table border=\"1\" class=\"dataframe\">\n",
              "  <thead>\n",
              "    <tr style=\"text-align: right;\">\n",
              "      <th></th>\n",
              "      <th>age</th>\n",
              "      <th>anaemia</th>\n",
              "      <th>creatinine_phosphokinase</th>\n",
              "      <th>diabetes</th>\n",
              "      <th>ejection_fraction</th>\n",
              "      <th>high_blood_pressure</th>\n",
              "      <th>platelets</th>\n",
              "      <th>serum_creatinine</th>\n",
              "      <th>serum_sodium</th>\n",
              "      <th>sex</th>\n",
              "      <th>smoking</th>\n",
              "      <th>time</th>\n",
              "      <th>DEATH_EVENT</th>\n",
              "    </tr>\n",
              "  </thead>\n",
              "  <tbody>\n",
              "    <tr>\n",
              "      <th>0</th>\n",
              "      <td>75.0</td>\n",
              "      <td>0</td>\n",
              "      <td>582</td>\n",
              "      <td>0</td>\n",
              "      <td>20</td>\n",
              "      <td>1</td>\n",
              "      <td>265000.00</td>\n",
              "      <td>1.9</td>\n",
              "      <td>130</td>\n",
              "      <td>1</td>\n",
              "      <td>0</td>\n",
              "      <td>4</td>\n",
              "      <td>1</td>\n",
              "    </tr>\n",
              "    <tr>\n",
              "      <th>1</th>\n",
              "      <td>55.0</td>\n",
              "      <td>0</td>\n",
              "      <td>7861</td>\n",
              "      <td>0</td>\n",
              "      <td>38</td>\n",
              "      <td>0</td>\n",
              "      <td>263358.03</td>\n",
              "      <td>1.1</td>\n",
              "      <td>136</td>\n",
              "      <td>1</td>\n",
              "      <td>0</td>\n",
              "      <td>6</td>\n",
              "      <td>1</td>\n",
              "    </tr>\n",
              "    <tr>\n",
              "      <th>2</th>\n",
              "      <td>65.0</td>\n",
              "      <td>0</td>\n",
              "      <td>146</td>\n",
              "      <td>0</td>\n",
              "      <td>20</td>\n",
              "      <td>0</td>\n",
              "      <td>162000.00</td>\n",
              "      <td>1.3</td>\n",
              "      <td>129</td>\n",
              "      <td>1</td>\n",
              "      <td>1</td>\n",
              "      <td>7</td>\n",
              "      <td>1</td>\n",
              "    </tr>\n",
              "    <tr>\n",
              "      <th>3</th>\n",
              "      <td>50.0</td>\n",
              "      <td>1</td>\n",
              "      <td>111</td>\n",
              "      <td>0</td>\n",
              "      <td>20</td>\n",
              "      <td>0</td>\n",
              "      <td>210000.00</td>\n",
              "      <td>1.9</td>\n",
              "      <td>137</td>\n",
              "      <td>1</td>\n",
              "      <td>0</td>\n",
              "      <td>7</td>\n",
              "      <td>1</td>\n",
              "    </tr>\n",
              "    <tr>\n",
              "      <th>4</th>\n",
              "      <td>65.0</td>\n",
              "      <td>1</td>\n",
              "      <td>160</td>\n",
              "      <td>1</td>\n",
              "      <td>20</td>\n",
              "      <td>0</td>\n",
              "      <td>327000.00</td>\n",
              "      <td>2.7</td>\n",
              "      <td>116</td>\n",
              "      <td>0</td>\n",
              "      <td>0</td>\n",
              "      <td>8</td>\n",
              "      <td>1</td>\n",
              "    </tr>\n",
              "  </tbody>\n",
              "</table>\n",
              "</div>"
            ],
            "text/plain": [
              "    age  anaemia  creatinine_phosphokinase  ...  smoking  time  DEATH_EVENT\n",
              "0  75.0        0                       582  ...        0     4            1\n",
              "1  55.0        0                      7861  ...        0     6            1\n",
              "2  65.0        0                       146  ...        1     7            1\n",
              "3  50.0        1                       111  ...        0     7            1\n",
              "4  65.0        1                       160  ...        0     8            1\n",
              "\n",
              "[5 rows x 13 columns]"
            ]
          },
          "metadata": {
            "tags": []
          },
          "execution_count": 3
        }
      ]
    },
    {
      "cell_type": "markdown",
      "metadata": {
        "id": "RS7nf4U7NZH6",
        "colab_type": "text"
      },
      "source": [
        "## 4. Limpeza e organização dos dados"
      ]
    },
    {
      "cell_type": "code",
      "metadata": {
        "id": "7OzEKGLgNfN-",
        "colab_type": "code",
        "colab": {
          "base_uri": "https://localhost:8080/",
          "height": 439
        },
        "outputId": "773bf169-7e40-4cbf-fdb3-f7222194358a"
      },
      "source": [
        "dados.dropna()"
      ],
      "execution_count": 4,
      "outputs": [
        {
          "output_type": "execute_result",
          "data": {
            "text/html": [
              "<div>\n",
              "<style scoped>\n",
              "    .dataframe tbody tr th:only-of-type {\n",
              "        vertical-align: middle;\n",
              "    }\n",
              "\n",
              "    .dataframe tbody tr th {\n",
              "        vertical-align: top;\n",
              "    }\n",
              "\n",
              "    .dataframe thead th {\n",
              "        text-align: right;\n",
              "    }\n",
              "</style>\n",
              "<table border=\"1\" class=\"dataframe\">\n",
              "  <thead>\n",
              "    <tr style=\"text-align: right;\">\n",
              "      <th></th>\n",
              "      <th>age</th>\n",
              "      <th>anaemia</th>\n",
              "      <th>creatinine_phosphokinase</th>\n",
              "      <th>diabetes</th>\n",
              "      <th>ejection_fraction</th>\n",
              "      <th>high_blood_pressure</th>\n",
              "      <th>platelets</th>\n",
              "      <th>serum_creatinine</th>\n",
              "      <th>serum_sodium</th>\n",
              "      <th>sex</th>\n",
              "      <th>smoking</th>\n",
              "      <th>time</th>\n",
              "      <th>DEATH_EVENT</th>\n",
              "    </tr>\n",
              "  </thead>\n",
              "  <tbody>\n",
              "    <tr>\n",
              "      <th>0</th>\n",
              "      <td>75.0</td>\n",
              "      <td>0</td>\n",
              "      <td>582</td>\n",
              "      <td>0</td>\n",
              "      <td>20</td>\n",
              "      <td>1</td>\n",
              "      <td>265000.00</td>\n",
              "      <td>1.9</td>\n",
              "      <td>130</td>\n",
              "      <td>1</td>\n",
              "      <td>0</td>\n",
              "      <td>4</td>\n",
              "      <td>1</td>\n",
              "    </tr>\n",
              "    <tr>\n",
              "      <th>1</th>\n",
              "      <td>55.0</td>\n",
              "      <td>0</td>\n",
              "      <td>7861</td>\n",
              "      <td>0</td>\n",
              "      <td>38</td>\n",
              "      <td>0</td>\n",
              "      <td>263358.03</td>\n",
              "      <td>1.1</td>\n",
              "      <td>136</td>\n",
              "      <td>1</td>\n",
              "      <td>0</td>\n",
              "      <td>6</td>\n",
              "      <td>1</td>\n",
              "    </tr>\n",
              "    <tr>\n",
              "      <th>2</th>\n",
              "      <td>65.0</td>\n",
              "      <td>0</td>\n",
              "      <td>146</td>\n",
              "      <td>0</td>\n",
              "      <td>20</td>\n",
              "      <td>0</td>\n",
              "      <td>162000.00</td>\n",
              "      <td>1.3</td>\n",
              "      <td>129</td>\n",
              "      <td>1</td>\n",
              "      <td>1</td>\n",
              "      <td>7</td>\n",
              "      <td>1</td>\n",
              "    </tr>\n",
              "    <tr>\n",
              "      <th>3</th>\n",
              "      <td>50.0</td>\n",
              "      <td>1</td>\n",
              "      <td>111</td>\n",
              "      <td>0</td>\n",
              "      <td>20</td>\n",
              "      <td>0</td>\n",
              "      <td>210000.00</td>\n",
              "      <td>1.9</td>\n",
              "      <td>137</td>\n",
              "      <td>1</td>\n",
              "      <td>0</td>\n",
              "      <td>7</td>\n",
              "      <td>1</td>\n",
              "    </tr>\n",
              "    <tr>\n",
              "      <th>4</th>\n",
              "      <td>65.0</td>\n",
              "      <td>1</td>\n",
              "      <td>160</td>\n",
              "      <td>1</td>\n",
              "      <td>20</td>\n",
              "      <td>0</td>\n",
              "      <td>327000.00</td>\n",
              "      <td>2.7</td>\n",
              "      <td>116</td>\n",
              "      <td>0</td>\n",
              "      <td>0</td>\n",
              "      <td>8</td>\n",
              "      <td>1</td>\n",
              "    </tr>\n",
              "    <tr>\n",
              "      <th>...</th>\n",
              "      <td>...</td>\n",
              "      <td>...</td>\n",
              "      <td>...</td>\n",
              "      <td>...</td>\n",
              "      <td>...</td>\n",
              "      <td>...</td>\n",
              "      <td>...</td>\n",
              "      <td>...</td>\n",
              "      <td>...</td>\n",
              "      <td>...</td>\n",
              "      <td>...</td>\n",
              "      <td>...</td>\n",
              "      <td>...</td>\n",
              "    </tr>\n",
              "    <tr>\n",
              "      <th>294</th>\n",
              "      <td>62.0</td>\n",
              "      <td>0</td>\n",
              "      <td>61</td>\n",
              "      <td>1</td>\n",
              "      <td>38</td>\n",
              "      <td>1</td>\n",
              "      <td>155000.00</td>\n",
              "      <td>1.1</td>\n",
              "      <td>143</td>\n",
              "      <td>1</td>\n",
              "      <td>1</td>\n",
              "      <td>270</td>\n",
              "      <td>0</td>\n",
              "    </tr>\n",
              "    <tr>\n",
              "      <th>295</th>\n",
              "      <td>55.0</td>\n",
              "      <td>0</td>\n",
              "      <td>1820</td>\n",
              "      <td>0</td>\n",
              "      <td>38</td>\n",
              "      <td>0</td>\n",
              "      <td>270000.00</td>\n",
              "      <td>1.2</td>\n",
              "      <td>139</td>\n",
              "      <td>0</td>\n",
              "      <td>0</td>\n",
              "      <td>271</td>\n",
              "      <td>0</td>\n",
              "    </tr>\n",
              "    <tr>\n",
              "      <th>296</th>\n",
              "      <td>45.0</td>\n",
              "      <td>0</td>\n",
              "      <td>2060</td>\n",
              "      <td>1</td>\n",
              "      <td>60</td>\n",
              "      <td>0</td>\n",
              "      <td>742000.00</td>\n",
              "      <td>0.8</td>\n",
              "      <td>138</td>\n",
              "      <td>0</td>\n",
              "      <td>0</td>\n",
              "      <td>278</td>\n",
              "      <td>0</td>\n",
              "    </tr>\n",
              "    <tr>\n",
              "      <th>297</th>\n",
              "      <td>45.0</td>\n",
              "      <td>0</td>\n",
              "      <td>2413</td>\n",
              "      <td>0</td>\n",
              "      <td>38</td>\n",
              "      <td>0</td>\n",
              "      <td>140000.00</td>\n",
              "      <td>1.4</td>\n",
              "      <td>140</td>\n",
              "      <td>1</td>\n",
              "      <td>1</td>\n",
              "      <td>280</td>\n",
              "      <td>0</td>\n",
              "    </tr>\n",
              "    <tr>\n",
              "      <th>298</th>\n",
              "      <td>50.0</td>\n",
              "      <td>0</td>\n",
              "      <td>196</td>\n",
              "      <td>0</td>\n",
              "      <td>45</td>\n",
              "      <td>0</td>\n",
              "      <td>395000.00</td>\n",
              "      <td>1.6</td>\n",
              "      <td>136</td>\n",
              "      <td>1</td>\n",
              "      <td>1</td>\n",
              "      <td>285</td>\n",
              "      <td>0</td>\n",
              "    </tr>\n",
              "  </tbody>\n",
              "</table>\n",
              "<p>299 rows × 13 columns</p>\n",
              "</div>"
            ],
            "text/plain": [
              "      age  anaemia  creatinine_phosphokinase  ...  smoking  time  DEATH_EVENT\n",
              "0    75.0        0                       582  ...        0     4            1\n",
              "1    55.0        0                      7861  ...        0     6            1\n",
              "2    65.0        0                       146  ...        1     7            1\n",
              "3    50.0        1                       111  ...        0     7            1\n",
              "4    65.0        1                       160  ...        0     8            1\n",
              "..    ...      ...                       ...  ...      ...   ...          ...\n",
              "294  62.0        0                        61  ...        1   270            0\n",
              "295  55.0        0                      1820  ...        0   271            0\n",
              "296  45.0        0                      2060  ...        0   278            0\n",
              "297  45.0        0                      2413  ...        1   280            0\n",
              "298  50.0        0                       196  ...        1   285            0\n",
              "\n",
              "[299 rows x 13 columns]"
            ]
          },
          "metadata": {
            "tags": []
          },
          "execution_count": 4
        }
      ]
    },
    {
      "cell_type": "markdown",
      "metadata": {
        "id": "GVRdF7oaNlHV",
        "colab_type": "text"
      },
      "source": [
        "## 5. Re-escala dos dados"
      ]
    },
    {
      "cell_type": "code",
      "metadata": {
        "id": "86atROPaNrwF",
        "colab_type": "code",
        "colab": {}
      },
      "source": [
        "dados = (dados - dados.min())/(dados.max() - dados.min())"
      ],
      "execution_count": 6,
      "outputs": []
    },
    {
      "cell_type": "markdown",
      "metadata": {
        "id": "LAawnhxBT_Az",
        "colab_type": "text"
      },
      "source": [
        "## 6. Organizando os dados para modelagem"
      ]
    },
    {
      "cell_type": "code",
      "metadata": {
        "id": "X-XLUiUvUJmd",
        "colab_type": "code",
        "colab": {
          "base_uri": "https://localhost:8080/",
          "height": 224
        },
        "outputId": "7e821770-9da8-47ff-9f8d-10da3c2d23aa"
      },
      "source": [
        "X = dados.iloc[:,:len(dados.columns) - 1]\n",
        "X.head()"
      ],
      "execution_count": 8,
      "outputs": [
        {
          "output_type": "execute_result",
          "data": {
            "text/html": [
              "<div>\n",
              "<style scoped>\n",
              "    .dataframe tbody tr th:only-of-type {\n",
              "        vertical-align: middle;\n",
              "    }\n",
              "\n",
              "    .dataframe tbody tr th {\n",
              "        vertical-align: top;\n",
              "    }\n",
              "\n",
              "    .dataframe thead th {\n",
              "        text-align: right;\n",
              "    }\n",
              "</style>\n",
              "<table border=\"1\" class=\"dataframe\">\n",
              "  <thead>\n",
              "    <tr style=\"text-align: right;\">\n",
              "      <th></th>\n",
              "      <th>age</th>\n",
              "      <th>anaemia</th>\n",
              "      <th>creatinine_phosphokinase</th>\n",
              "      <th>diabetes</th>\n",
              "      <th>ejection_fraction</th>\n",
              "      <th>high_blood_pressure</th>\n",
              "      <th>platelets</th>\n",
              "      <th>serum_creatinine</th>\n",
              "      <th>serum_sodium</th>\n",
              "      <th>sex</th>\n",
              "      <th>smoking</th>\n",
              "      <th>time</th>\n",
              "    </tr>\n",
              "  </thead>\n",
              "  <tbody>\n",
              "    <tr>\n",
              "      <th>0</th>\n",
              "      <td>0.636364</td>\n",
              "      <td>0.0</td>\n",
              "      <td>0.071319</td>\n",
              "      <td>0.0</td>\n",
              "      <td>0.090909</td>\n",
              "      <td>1.0</td>\n",
              "      <td>0.290823</td>\n",
              "      <td>0.157303</td>\n",
              "      <td>0.485714</td>\n",
              "      <td>1.0</td>\n",
              "      <td>0.0</td>\n",
              "      <td>0.000000</td>\n",
              "    </tr>\n",
              "    <tr>\n",
              "      <th>1</th>\n",
              "      <td>0.272727</td>\n",
              "      <td>0.0</td>\n",
              "      <td>1.000000</td>\n",
              "      <td>0.0</td>\n",
              "      <td>0.363636</td>\n",
              "      <td>0.0</td>\n",
              "      <td>0.288833</td>\n",
              "      <td>0.067416</td>\n",
              "      <td>0.657143</td>\n",
              "      <td>1.0</td>\n",
              "      <td>0.0</td>\n",
              "      <td>0.007117</td>\n",
              "    </tr>\n",
              "    <tr>\n",
              "      <th>2</th>\n",
              "      <td>0.454545</td>\n",
              "      <td>0.0</td>\n",
              "      <td>0.015693</td>\n",
              "      <td>0.0</td>\n",
              "      <td>0.090909</td>\n",
              "      <td>0.0</td>\n",
              "      <td>0.165960</td>\n",
              "      <td>0.089888</td>\n",
              "      <td>0.457143</td>\n",
              "      <td>1.0</td>\n",
              "      <td>1.0</td>\n",
              "      <td>0.010676</td>\n",
              "    </tr>\n",
              "    <tr>\n",
              "      <th>3</th>\n",
              "      <td>0.181818</td>\n",
              "      <td>1.0</td>\n",
              "      <td>0.011227</td>\n",
              "      <td>0.0</td>\n",
              "      <td>0.090909</td>\n",
              "      <td>0.0</td>\n",
              "      <td>0.224148</td>\n",
              "      <td>0.157303</td>\n",
              "      <td>0.685714</td>\n",
              "      <td>1.0</td>\n",
              "      <td>0.0</td>\n",
              "      <td>0.010676</td>\n",
              "    </tr>\n",
              "    <tr>\n",
              "      <th>4</th>\n",
              "      <td>0.454545</td>\n",
              "      <td>1.0</td>\n",
              "      <td>0.017479</td>\n",
              "      <td>1.0</td>\n",
              "      <td>0.090909</td>\n",
              "      <td>0.0</td>\n",
              "      <td>0.365984</td>\n",
              "      <td>0.247191</td>\n",
              "      <td>0.085714</td>\n",
              "      <td>0.0</td>\n",
              "      <td>0.0</td>\n",
              "      <td>0.014235</td>\n",
              "    </tr>\n",
              "  </tbody>\n",
              "</table>\n",
              "</div>"
            ],
            "text/plain": [
              "        age  anaemia  creatinine_phosphokinase  ...  sex  smoking      time\n",
              "0  0.636364      0.0                  0.071319  ...  1.0      0.0  0.000000\n",
              "1  0.272727      0.0                  1.000000  ...  1.0      0.0  0.007117\n",
              "2  0.454545      0.0                  0.015693  ...  1.0      1.0  0.010676\n",
              "3  0.181818      1.0                  0.011227  ...  1.0      0.0  0.010676\n",
              "4  0.454545      1.0                  0.017479  ...  0.0      0.0  0.014235\n",
              "\n",
              "[5 rows x 12 columns]"
            ]
          },
          "metadata": {
            "tags": []
          },
          "execution_count": 8
        }
      ]
    },
    {
      "cell_type": "code",
      "metadata": {
        "id": "BddrAVnPUcR9",
        "colab_type": "code",
        "colab": {
          "base_uri": "https://localhost:8080/",
          "height": 119
        },
        "outputId": "97fe3752-0aba-4f51-83bf-17f1dff54bb2"
      },
      "source": [
        "y = dados.DEATH_EVENT\n",
        "y.head()"
      ],
      "execution_count": 9,
      "outputs": [
        {
          "output_type": "execute_result",
          "data": {
            "text/plain": [
              "0    1.0\n",
              "1    1.0\n",
              "2    1.0\n",
              "3    1.0\n",
              "4    1.0\n",
              "Name: DEATH_EVENT, dtype: float64"
            ]
          },
          "metadata": {
            "tags": []
          },
          "execution_count": 9
        }
      ]
    },
    {
      "cell_type": "markdown",
      "metadata": {
        "id": "GVY_meRqUlUs",
        "colab_type": "text"
      },
      "source": [
        "## 7. Definindo algoritmo de agrupamento"
      ]
    },
    {
      "cell_type": "code",
      "metadata": {
        "id": "ghXzjDOiUw-1",
        "colab_type": "code",
        "colab": {
          "base_uri": "https://localhost:8080/",
          "height": 68
        },
        "outputId": "b13f5353-ce12-4a17-dfbf-8c102536c094"
      },
      "source": [
        "#agrupamento\n",
        "kmeans = KMeans(n_clusters = 2)\n",
        "kmeans.fit(X)"
      ],
      "execution_count": 12,
      "outputs": [
        {
          "output_type": "execute_result",
          "data": {
            "text/plain": [
              "KMeans(algorithm='auto', copy_x=True, init='k-means++', max_iter=300,\n",
              "       n_clusters=2, n_init=10, n_jobs=None, precompute_distances='auto',\n",
              "       random_state=None, tol=0.0001, verbose=0)"
            ]
          },
          "metadata": {
            "tags": []
          },
          "execution_count": 12
        }
      ]
    },
    {
      "cell_type": "markdown",
      "metadata": {
        "id": "815EXwBnVNrd",
        "colab_type": "text"
      },
      "source": [
        "#### Aplicando modelo de dados ao teste"
      ]
    },
    {
      "cell_type": "code",
      "metadata": {
        "id": "XwM8Zgm9VRi4",
        "colab_type": "code",
        "colab": {
          "base_uri": "https://localhost:8080/",
          "height": 255
        },
        "outputId": "2db8a90b-bcd9-4d10-da2b-41e31a3f6913"
      },
      "source": [
        "kmeans_labels = kmeans.predict(X)\n",
        "kmeans_labels"
      ],
      "execution_count": 13,
      "outputs": [
        {
          "output_type": "execute_result",
          "data": {
            "text/plain": [
              "array([1, 1, 1, 1, 0, 1, 1, 1, 0, 1, 1, 1, 1, 1, 0, 1, 1, 1, 0, 0, 0, 0,\n",
              "       1, 1, 0, 1, 0, 1, 1, 1, 1, 1, 0, 0, 1, 1, 1, 0, 1, 0, 1, 0, 1, 1,\n",
              "       0, 1, 1, 1, 1, 0, 1, 0, 0, 0, 0, 1, 1, 1, 1, 1, 1, 0, 1, 1, 0, 1,\n",
              "       0, 1, 0, 1, 1, 1, 1, 1, 1, 1, 0, 1, 1, 0, 0, 1, 0, 1, 0, 1, 1, 1,\n",
              "       1, 1, 1, 1, 0, 1, 0, 1, 1, 0, 0, 0, 1, 1, 1, 1, 0, 0, 1, 1, 1, 1,\n",
              "       1, 1, 1, 0, 1, 0, 0, 0, 0, 0, 1, 0, 0, 0, 1, 0, 0, 0, 1, 1, 1, 1,\n",
              "       0, 1, 1, 1, 0, 1, 0, 1, 1, 0, 0, 0, 1, 1, 1, 1, 1, 1, 0, 1, 1, 1,\n",
              "       0, 1, 0, 1, 1, 1, 1, 1, 1, 0, 1, 0, 1, 1, 0, 0, 1, 1, 1, 1, 1, 1,\n",
              "       1, 0, 1, 1, 1, 1, 1, 1, 1, 1, 0, 0, 0, 0, 1, 0, 1, 1, 1, 1, 0, 0,\n",
              "       0, 1, 1, 1, 1, 1, 1, 0, 0, 1, 0, 0, 1, 1, 1, 0, 1, 1, 0, 0, 1, 0,\n",
              "       1, 1, 1, 1, 1, 0, 1, 1, 0, 0, 0, 1, 1, 1, 1, 1, 1, 1, 0, 1, 0, 1,\n",
              "       1, 0, 1, 1, 1, 1, 1, 0, 0, 0, 1, 0, 1, 1, 0, 1, 1, 1, 1, 0, 1, 0,\n",
              "       1, 1, 1, 1, 0, 1, 1, 0, 0, 1, 1, 0, 0, 1, 0, 0, 1, 1, 1, 1, 1, 1,\n",
              "       1, 0, 0, 0, 0, 1, 1, 1, 1, 0, 0, 1, 1], dtype=int32)"
            ]
          },
          "metadata": {
            "tags": []
          },
          "execution_count": 13
        }
      ]
    },
    {
      "cell_type": "markdown",
      "metadata": {
        "id": "-Gh9Ba8tVfXl",
        "colab_type": "text"
      },
      "source": [
        "#### Visualizando os resultados do agrupamento "
      ]
    },
    {
      "cell_type": "code",
      "metadata": {
        "id": "jo-odergVk__",
        "colab_type": "code",
        "colab": {}
      },
      "source": [
        "X = X.reset_index(drop = True)"
      ],
      "execution_count": 14,
      "outputs": []
    },
    {
      "cell_type": "code",
      "metadata": {
        "id": "tmpcCZ44oXU1",
        "colab_type": "code",
        "colab": {}
      },
      "source": [
        "# adicionando as labels ao teste para fins de visualização\n",
        "grupos = pd.DataFrame(kmeans_labels)\n",
        "X.insert((X.shape[1]),'DEATH_EVENT',grupos)"
      ],
      "execution_count": 18,
      "outputs": []
    },
    {
      "cell_type": "code",
      "metadata": {
        "id": "q7uBnlm72SHq",
        "colab_type": "code",
        "colab": {}
      },
      "source": [
        "sobreviveu = X[X['DEATH_EVENT']==0]\n",
        "morreu = X[X['DEATH_EVENT']==1]"
      ],
      "execution_count": 23,
      "outputs": []
    },
    {
      "cell_type": "code",
      "metadata": {
        "id": "fjGEq8zcYxbd",
        "colab_type": "code",
        "colab": {}
      },
      "source": [
        "plt.rcParams[\"figure.figsize\"] = (8,5)"
      ],
      "execution_count": 24,
      "outputs": []
    },
    {
      "cell_type": "code",
      "metadata": {
        "id": "U1dNkGNi0Fzw",
        "colab_type": "code",
        "colab": {
          "base_uri": "https://localhost:8080/",
          "height": 303
        },
        "outputId": "888ae494-4619-4a0b-d059-bbae1a801d04"
      },
      "source": [
        "#plotando alguns atributos das classes\n",
        "ax = plt.axes(projection='3d')\n",
        "ax.scatter3D(sobreviveu.anaemia,sobreviveu.diabetes,sobreviveu.high_blood_pressure,s = 50, label = 'sobreviveu')\n",
        "ax.scatter3D(morreu.anaemia,morreu.diabetes,morreu.high_blood_pressure,s=50,label='morreu')\n",
        "plt.legend()\n",
        "ax.set_xlabel('Anaemia')\n",
        "ax.set_ylabel('Diabetes')\n",
        "ax.set_zlabel('High_blood_pressure')\n",
        "plt.title('Anemia, Diabetes e Pressão sanguínea dos Pacientes')\n",
        "plt.show()\n"
      ],
      "execution_count": 26,
      "outputs": [
        {
          "output_type": "display_data",
          "data": {
            "image/png": "[encoded data removed]",
            "text/plain": [
              "<Figure size 576x360 with 1 Axes>"
            ]
          },
          "metadata": {
            "tags": [],
            "needs_background": "light"
          }
        }
      ]
    },
    {
      "cell_type": "code",
      "metadata": {
        "id": "0OQ_353i3yA6",
        "colab_type": "code",
        "colab": {
          "base_uri": "https://localhost:8080/",
          "height": 303
        },
        "outputId": "45166f3d-b4fb-4f67-bd0a-e61fe690d2f7"
      },
      "source": [
        "ax = plt.axes(projection='3d')\n",
        "ax.scatter3D(sobreviveu.anaemia,sobreviveu.diabetes,sobreviveu.smoking,s = 50, label = 'sobreviveu')\n",
        "ax.scatter3D(morreu.anaemia,morreu.diabetes,morreu.smoking,s=50,label='morreu')\n",
        "plt.legend()\n",
        "ax.set_xlabel('Anaemia')\n",
        "ax.set_ylabel('Diabetes')\n",
        "ax.set_zlabel('Smoking')\n",
        "plt.title('Anemia, diabetes, e se o paciente fuma ou não')\n",
        "plt.show()\n"
      ],
      "execution_count": 27,
      "outputs": [
        {
          "output_type": "display_data",
          "data": {
            "image/png": "[encoded data removed]",
            "text/plain": [
              "<Figure size 576x360 with 1 Axes>"
            ]
          },
          "metadata": {
            "tags": [],
            "needs_background": "light"
          }
        }
      ]
    },
    {
      "cell_type": "code",
      "metadata": {
        "id": "-NRXhfC79dkZ",
        "colab_type": "code",
        "colab": {}
      },
      "source": [
        "plt.rcParams[\"figure.figsize\"] = (25,20)"
      ],
      "execution_count": 28,
      "outputs": []
    },
    {
      "cell_type": "code",
      "metadata": {
        "id": "q_zJ_WMy5hoo",
        "colab_type": "code",
        "colab": {
          "base_uri": "https://localhost:8080/",
          "height": 990
        },
        "outputId": "636ea2a7-fc89-4f38-837f-2dd3d16b41b7"
      },
      "source": [
        "#plotando comparação de alguns atributos\n",
        "fig, axs = plt.subplots(6,6)\n",
        "for i in range(6):\n",
        "  for j in range(6):\n",
        "    axs[i,j].scatter(sobreviveu.iloc[i],sobreviveu.iloc[j],label='sobreviveu')\n",
        "    axs[i,j].scatter(morreu.iloc[i],morreu.iloc[j],label='morreu')\n",
        "    axs[i,j].set(xlabel=X.columns[i],ylabel=X.columns[j])\n",
        "plt.legend()\n",
        "plt.show()"
      ],
      "execution_count": 29,
      "outputs": [
        {
          "output_type": "display_data",
          "data": {
            "image/png": "[encoded data removed]",
            "text/plain": [
              "<Figure size 1800x1440 with 36 Axes>"
            ]
          },
          "metadata": {
            "tags": [],
            "needs_background": "light"
          }
        }
      ]
    },
    {
      "cell_type": "markdown",
      "metadata": {
        "id": "FTeEGWkYYKRS",
        "colab_type": "text"
      },
      "source": [
        "Os primeiros gráficos ficaram um pouco estranhos, isso pode se dar por conta da formatação dos parâmentros, mas com a matriz de gráficos apresentada é mais fácil de perceber os agrupamentos feitos. E pode se ter uma ideia do funcionamento do algoritmo de agrupamento."
      ]
    },
    {
      "cell_type": "markdown",
      "metadata": {
        "id": "lLZw6secYwqa",
        "colab_type": "text"
      },
      "source": [
        "## 8. Avaliando modelo"
      ]
    },
    {
      "cell_type": "markdown",
      "metadata": {
        "id": "1izQC_25fUQd",
        "colab_type": "text"
      },
      "source": [
        "### Métricas para quando se conhecem as classes"
      ]
    },
    {
      "cell_type": "markdown",
      "metadata": {
        "id": "1jWYdjfHdyVt",
        "colab_type": "text"
      },
      "source": [
        "#### Acurácia\n"
      ]
    },
    {
      "cell_type": "code",
      "metadata": {
        "id": "Yls8TuOROED2",
        "colab_type": "code",
        "colab": {}
      },
      "source": [
        "from sklearn.metrics import accuracy_score"
      ],
      "execution_count": 30,
      "outputs": []
    },
    {
      "cell_type": "code",
      "metadata": {
        "id": "EklAJzwZmV7w",
        "colab_type": "code",
        "colab": {
          "base_uri": "https://localhost:8080/",
          "height": 34
        },
        "outputId": "d5bf6662-ea35-4e19-86ff-1a1a23465e5e"
      },
      "source": [
        "acuracia = accuracy_score(y,kmeans_labels)\n",
        "round(acuracia,3)"
      ],
      "execution_count": 31,
      "outputs": [
        {
          "output_type": "execute_result",
          "data": {
            "text/plain": [
              "0.445"
            ]
          },
          "metadata": {
            "tags": []
          },
          "execution_count": 31
        }
      ]
    },
    {
      "cell_type": "markdown",
      "metadata": {
        "id": "asd_sa4kZMdS",
        "colab_type": "text"
      },
      "source": [
        "A acurácia foi baixa, isso pode ser dar ppois os grupos formados não são necessariamente correspondentes as classes. Porém se pegarmor o complemento desse número daria ≅ 0.56 o que seria também baixa, já mostrando que o algoritmo pode não ter sido tão bom para este problema."
      ]
    },
    {
      "cell_type": "markdown",
      "metadata": {
        "id": "f1QlZETZebnQ",
        "colab_type": "text"
      },
      "source": [
        "#### Índice Rand Ajustado"
      ]
    },
    {
      "cell_type": "code",
      "metadata": {
        "id": "iugszaWyCgLr",
        "colab_type": "code",
        "colab": {}
      },
      "source": [
        "from sklearn.metrics import adjusted_rand_score"
      ],
      "execution_count": 32,
      "outputs": []
    },
    {
      "cell_type": "code",
      "metadata": {
        "id": "LyZ_-tVdBhhc",
        "colab_type": "code",
        "colab": {
          "base_uri": "https://localhost:8080/",
          "height": 34
        },
        "outputId": "66a417d3-f6c1-4b0e-bc61-c1c092f1ef35"
      },
      "source": [
        "rand_score = adjusted_rand_score(y,kmeans_labels)\n",
        "rand_score"
      ],
      "execution_count": 33,
      "outputs": [
        {
          "output_type": "execute_result",
          "data": {
            "text/plain": [
              "-0.0018582102712868956"
            ]
          },
          "metadata": {
            "tags": []
          },
          "execution_count": 33
        }
      ]
    },
    {
      "cell_type": "markdown",
      "metadata": {
        "id": "aHwxbXUhZs2_",
        "colab_type": "text"
      },
      "source": [
        "O indíce está abaixo de 0. Isso quer dizer que ta muito ruim esse agrupamento."
      ]
    },
    {
      "cell_type": "markdown",
      "metadata": {
        "id": "SxVZJKZuMBQX",
        "colab_type": "text"
      },
      "source": [
        "### Scores baseados em informação mútua"
      ]
    },
    {
      "cell_type": "code",
      "metadata": {
        "id": "3XhvSzWpCg-j",
        "colab_type": "code",
        "colab": {}
      },
      "source": [
        "from sklearn.metrics import adjusted_mutual_info_score"
      ],
      "execution_count": 34,
      "outputs": []
    },
    {
      "cell_type": "code",
      "metadata": {
        "id": "j0FzA_f1Cmkc",
        "colab_type": "code",
        "colab": {
          "base_uri": "https://localhost:8080/",
          "height": 34
        },
        "outputId": "ad401a69-3943-4cee-d729-36b56fb61fc7"
      },
      "source": [
        "mutual_info = adjusted_mutual_info_score(y,kmeans_labels)\n",
        "mutual_info"
      ],
      "execution_count": 35,
      "outputs": [
        {
          "output_type": "execute_result",
          "data": {
            "text/plain": [
              "-0.0026317329715643684"
            ]
          },
          "metadata": {
            "tags": []
          },
          "execution_count": 35
        }
      ]
    },
    {
      "cell_type": "markdown",
      "metadata": {
        "id": "MAgJ6FIpZ-ix",
        "colab_type": "text"
      },
      "source": [
        "O Score está abaixo de 0, so reforçando que esse problema não pode ser agrupado corretamente"
      ]
    },
    {
      "cell_type": "markdown",
      "metadata": {
        "id": "-hjEZAuoMyyh",
        "colab_type": "text"
      },
      "source": [
        "### Fowlkes-Mallows scores\n",
        "* Calculado como a média geométrica de precisão e recall\n",
        "* Melhor agrupamento quando valor do índice é próximo de 1\n",
        "* Pior agrupamento quando próximo de 0"
      ]
    },
    {
      "cell_type": "code",
      "metadata": {
        "id": "-B-xQITpJGiN",
        "colab_type": "code",
        "colab": {}
      },
      "source": [
        "from sklearn.metrics import fowlkes_mallows_score"
      ],
      "execution_count": 36,
      "outputs": []
    },
    {
      "cell_type": "code",
      "metadata": {
        "id": "PtZFyJnGJKyO",
        "colab_type": "code",
        "colab": {
          "base_uri": "https://localhost:8080/",
          "height": 34
        },
        "outputId": "feefb3de-f2a4-48f9-a3ca-ed35dc06cb9f"
      },
      "source": [
        "fm = fowlkes_mallows_score(y,kmeans_labels)\n",
        "fm"
      ],
      "execution_count": 37,
      "outputs": [
        {
          "output_type": "execute_result",
          "data": {
            "text/plain": [
              "0.5517496230319365"
            ]
          },
          "metadata": {
            "tags": []
          },
          "execution_count": 37
        }
      ]
    },
    {
      "cell_type": "markdown",
      "metadata": {
        "id": "tLFrNhp2avND",
        "colab_type": "text"
      },
      "source": [
        "Este Score ja conseguiu um resultado muito melhor que os anteriores, mas mesmo assim não está tão próximo de 1 para dizer que o agrupamento está bom."
      ]
    },
    {
      "cell_type": "markdown",
      "metadata": {
        "id": "70KYUcGmOhwr",
        "colab_type": "text"
      },
      "source": [
        "#### Métricas quando as classes não são conhecidas"
      ]
    },
    {
      "cell_type": "markdown",
      "metadata": {
        "id": "gDUr8X42OuWF",
        "colab_type": "text"
      },
      "source": [
        "### Índice Davies-Boldin"
      ]
    },
    {
      "cell_type": "code",
      "metadata": {
        "id": "OvG0B6pfMoyJ",
        "colab_type": "code",
        "colab": {}
      },
      "source": [
        "#excluindo a coluna de classificação\n",
        "X = X.drop(columns=['DEATH_EVENT'])"
      ],
      "execution_count": 39,
      "outputs": []
    },
    {
      "cell_type": "code",
      "metadata": {
        "id": "zyqySxcYK6dz",
        "colab_type": "code",
        "colab": {}
      },
      "source": [
        "from sklearn.metrics import davies_bouldin_score"
      ],
      "execution_count": 40,
      "outputs": []
    },
    {
      "cell_type": "code",
      "metadata": {
        "id": "es5CQo_CK95w",
        "colab_type": "code",
        "colab": {
          "base_uri": "https://localhost:8080/",
          "height": 34
        },
        "outputId": "89e62b0e-53ad-46a0-acf7-562ff24e3874"
      },
      "source": [
        "db = davies_bouldin_score(X,kmeans_labels)\n",
        "db"
      ],
      "execution_count": 41,
      "outputs": [
        {
          "output_type": "execute_result",
          "data": {
            "text/plain": [
              "1.840182478089779"
            ]
          },
          "metadata": {
            "tags": []
          },
          "execution_count": 41
        }
      ]
    },
    {
      "cell_type": "markdown",
      "metadata": {
        "id": "FkrVXC7zbDrA",
        "colab_type": "text"
      },
      "source": [
        "Como não tenho um valor para comparar, não consigo afirmar o quão bom esse score se saiu, mas ele está longe de 0, mostando que também não está muito ruim."
      ]
    },
    {
      "cell_type": "markdown",
      "metadata": {
        "id": "2EQ_fASlQkPS",
        "colab_type": "text"
      },
      "source": [
        "### Coeficiente de Silhueta"
      ]
    },
    {
      "cell_type": "code",
      "metadata": {
        "id": "0Ul93accNzpv",
        "colab_type": "code",
        "colab": {}
      },
      "source": [
        "from sklearn.metrics import silhouette_score"
      ],
      "execution_count": 53,
      "outputs": []
    },
    {
      "cell_type": "code",
      "metadata": {
        "id": "JYxTvF4IN5Ej",
        "colab_type": "code",
        "colab": {
          "base_uri": "https://localhost:8080/",
          "height": 34
        },
        "outputId": "8508234c-cb27-441a-ca73-0149cb753efa"
      },
      "source": [
        "ss = silhouette_score(X,kmeans_labels,metric='euclidean')\n",
        "ss"
      ],
      "execution_count": 54,
      "outputs": [
        {
          "output_type": "execute_result",
          "data": {
            "text/plain": [
              "0.20837168230969513"
            ]
          },
          "metadata": {
            "tags": []
          },
          "execution_count": 54
        }
      ]
    },
    {
      "cell_type": "markdown",
      "metadata": {
        "id": "PqhJQSNQbTat",
        "colab_type": "text"
      },
      "source": [
        "Este coeficiente está próximo de 0, o resultado não foi bom."
      ]
    },
    {
      "cell_type": "markdown",
      "metadata": {
        "id": "x6aR-aVpROj0",
        "colab_type": "text"
      },
      "source": [
        "### Índice Calinski-Harabasz \n"
      ]
    },
    {
      "cell_type": "code",
      "metadata": {
        "id": "2i9HcC6IOW7L",
        "colab_type": "code",
        "colab": {}
      },
      "source": [
        "from sklearn.metrics import calinski_harabasz_score"
      ],
      "execution_count": 42,
      "outputs": []
    },
    {
      "cell_type": "code",
      "metadata": {
        "id": "jvT5tNksOjHq",
        "colab_type": "code",
        "colab": {
          "base_uri": "https://localhost:8080/",
          "height": 34
        },
        "outputId": "a656beb0-9eee-435d-de58-7a538f7dad36"
      },
      "source": [
        "ch = calinski_harabasz_score(X,kmeans_labels)\n",
        "ch"
      ],
      "execution_count": 43,
      "outputs": [
        {
          "output_type": "execute_result",
          "data": {
            "text/plain": [
              "76.99609791364563"
            ]
          },
          "metadata": {
            "tags": []
          },
          "execution_count": 43
        }
      ]
    },
    {
      "cell_type": "markdown",
      "metadata": {
        "id": "aOBpon2XbnAB",
        "colab_type": "text"
      },
      "source": [
        "O valor para este índice está alto, mas como não tenho um outro valor para comparação não consigo afirmar se este valor é satisfatório."
      ]
    },
    {
      "cell_type": "markdown",
      "metadata": {
        "id": "VAX4lD3wS4-K",
        "colab_type": "text"
      },
      "source": [
        "## 9. Agrupamento Hierárquico"
      ]
    },
    {
      "cell_type": "code",
      "metadata": {
        "id": "r4nrk1mMTAO0",
        "colab_type": "code",
        "colab": {}
      },
      "source": [
        "from sklearn.cluster import AgglomerativeClustering"
      ],
      "execution_count": 44,
      "outputs": []
    },
    {
      "cell_type": "markdown",
      "metadata": {
        "id": "Uufj3NGMaDqZ",
        "colab_type": "text"
      },
      "source": [
        "### Definindo modelo e realizando o agrupamento"
      ]
    },
    {
      "cell_type": "code",
      "metadata": {
        "id": "r-uk6eikWVJ8",
        "colab_type": "code",
        "colab": {}
      },
      "source": [
        "hierarquico = AgglomerativeClustering(n_clusters=2)\n",
        "labels_hierarquico = hierarquico.fit(X).labels_"
      ],
      "execution_count": 45,
      "outputs": []
    },
    {
      "cell_type": "code",
      "metadata": {
        "id": "Geb0pOD1XHPZ",
        "colab_type": "code",
        "colab": {
          "base_uri": "https://localhost:8080/",
          "height": 255
        },
        "outputId": "6ac76264-50d9-423c-dd10-6b9dee43df32"
      },
      "source": [
        "labels_hierarquico"
      ],
      "execution_count": 46,
      "outputs": [
        {
          "output_type": "execute_result",
          "data": {
            "text/plain": [
              "array([0, 0, 0, 0, 1, 0, 0, 0, 1, 0, 0, 0, 0, 1, 1, 0, 0, 0, 1, 1, 1, 1,\n",
              "       0, 0, 1, 0, 1, 0, 0, 0, 0, 0, 1, 1, 0, 0, 0, 1, 0, 1, 0, 0, 0, 0,\n",
              "       1, 0, 0, 0, 1, 1, 1, 1, 1, 1, 0, 0, 0, 0, 0, 0, 0, 1, 0, 0, 1, 0,\n",
              "       1, 0, 1, 0, 0, 0, 0, 0, 0, 0, 0, 0, 0, 1, 1, 0, 1, 1, 1, 0, 0, 0,\n",
              "       0, 1, 0, 0, 1, 0, 1, 1, 0, 1, 1, 1, 0, 0, 0, 0, 1, 0, 0, 0, 0, 0,\n",
              "       0, 0, 0, 1, 0, 1, 1, 1, 1, 1, 0, 1, 1, 1, 0, 1, 1, 1, 0, 0, 0, 0,\n",
              "       1, 0, 0, 0, 1, 0, 1, 0, 0, 1, 1, 1, 0, 0, 0, 0, 0, 0, 1, 0, 0, 0,\n",
              "       1, 0, 1, 0, 0, 0, 1, 0, 0, 1, 0, 1, 0, 0, 1, 1, 0, 0, 0, 0, 0, 0,\n",
              "       0, 1, 0, 0, 0, 0, 0, 0, 0, 0, 1, 1, 1, 1, 0, 1, 0, 0, 0, 0, 1, 1,\n",
              "       1, 0, 0, 0, 0, 0, 0, 1, 1, 0, 1, 1, 0, 0, 0, 1, 1, 0, 1, 1, 0, 1,\n",
              "       0, 0, 0, 0, 0, 1, 0, 1, 1, 1, 1, 0, 0, 0, 0, 1, 0, 0, 1, 0, 1, 0,\n",
              "       0, 1, 0, 0, 0, 0, 0, 1, 1, 1, 0, 1, 1, 0, 1, 0, 0, 0, 0, 1, 0, 1,\n",
              "       0, 0, 0, 0, 1, 0, 0, 1, 1, 0, 0, 1, 1, 0, 1, 1, 0, 0, 0, 0, 0, 0,\n",
              "       0, 1, 1, 1, 1, 0, 0, 0, 0, 1, 1, 0, 0])"
            ]
          },
          "metadata": {
            "tags": []
          },
          "execution_count": 46
        }
      ]
    },
    {
      "cell_type": "markdown",
      "metadata": {
        "id": "IDa7r5NfaG_G",
        "colab_type": "text"
      },
      "source": [
        "#### Avaliando o modelo"
      ]
    },
    {
      "cell_type": "code",
      "metadata": {
        "id": "dMX-XRZGaLtJ",
        "colab_type": "code",
        "colab": {
          "base_uri": "https://localhost:8080/",
          "height": 34
        },
        "outputId": "575dbca1-536c-4dd2-8cbb-3d8e54af7d6d"
      },
      "source": [
        "#acurácia\n",
        "acuracia = accuracy_score(y,labels_hierarquico)\n",
        "round(acuracia,3)"
      ],
      "execution_count": 47,
      "outputs": [
        {
          "output_type": "execute_result",
          "data": {
            "text/plain": [
              "0.532"
            ]
          },
          "metadata": {
            "tags": []
          },
          "execution_count": 47
        }
      ]
    },
    {
      "cell_type": "code",
      "metadata": {
        "id": "Wtbj4dBqXdbn",
        "colab_type": "code",
        "colab": {
          "base_uri": "https://localhost:8080/",
          "height": 34
        },
        "outputId": "cccca9e8-7e8d-4cad-c775-fd7147b51373"
      },
      "source": [
        "#índice rand ajustado\n",
        "rand_score = adjusted_rand_score(y,labels_hierarquico)\n",
        "rand_score"
      ],
      "execution_count": 48,
      "outputs": [
        {
          "output_type": "execute_result",
          "data": {
            "text/plain": [
              "-0.006835288005468078"
            ]
          },
          "metadata": {
            "tags": []
          },
          "execution_count": 48
        }
      ]
    },
    {
      "cell_type": "code",
      "metadata": {
        "id": "4qrobPB4aW4W",
        "colab_type": "code",
        "colab": {
          "base_uri": "https://localhost:8080/",
          "height": 34
        },
        "outputId": "924aebe5-afc0-4034-bb88-8e52d5673987"
      },
      "source": [
        "#índice baseado em informação mútua\n",
        "mutual_info = adjusted_mutual_info_score(y,labels_hierarquico)\n",
        "mutual_info"
      ],
      "execution_count": 49,
      "outputs": [
        {
          "output_type": "execute_result",
          "data": {
            "text/plain": [
              "-0.001961478059554984"
            ]
          },
          "metadata": {
            "tags": []
          },
          "execution_count": 49
        }
      ]
    },
    {
      "cell_type": "code",
      "metadata": {
        "id": "vIii08q1abRW",
        "colab_type": "code",
        "colab": {
          "base_uri": "https://localhost:8080/",
          "height": 34
        },
        "outputId": "7a3e5fe0-d990-48da-812d-93a7afd7c54c"
      },
      "source": [
        "#índice Fowlkes Mallows\n",
        "fm = fowlkes_mallows_score(y,labels_hierarquico)\n",
        "fm"
      ],
      "execution_count": 50,
      "outputs": [
        {
          "output_type": "execute_result",
          "data": {
            "text/plain": [
              "0.542877045160299"
            ]
          },
          "metadata": {
            "tags": []
          },
          "execution_count": 50
        }
      ]
    },
    {
      "cell_type": "code",
      "metadata": {
        "id": "xudPYuaGawRc",
        "colab_type": "code",
        "colab": {
          "base_uri": "https://localhost:8080/",
          "height": 34
        },
        "outputId": "032b6c5c-73d2-46a8-b25e-5d8687dd82ef"
      },
      "source": [
        "#indice Davies-Boldin\n",
        "db = davies_bouldin_score(X,labels_hierarquico)\n",
        "db"
      ],
      "execution_count": 51,
      "outputs": [
        {
          "output_type": "execute_result",
          "data": {
            "text/plain": [
              "1.9662787130613664"
            ]
          },
          "metadata": {
            "tags": []
          },
          "execution_count": 51
        }
      ]
    },
    {
      "cell_type": "code",
      "metadata": {
        "id": "j4jtbiosa6Z6",
        "colab_type": "code",
        "colab": {
          "base_uri": "https://localhost:8080/",
          "height": 34
        },
        "outputId": "530cbf23-5702-4070-b4d8-007030891fdd"
      },
      "source": [
        "#coeficiente de silhueta\n",
        "ss = silhouette_score(X,labels_hierarquico,metric='euclidean')\n",
        "ss"
      ],
      "execution_count": 55,
      "outputs": [
        {
          "output_type": "execute_result",
          "data": {
            "text/plain": [
              "0.19099897077503347"
            ]
          },
          "metadata": {
            "tags": []
          },
          "execution_count": 55
        }
      ]
    },
    {
      "cell_type": "code",
      "metadata": {
        "id": "oV32AYyHbCpr",
        "colab_type": "code",
        "colab": {
          "base_uri": "https://localhost:8080/",
          "height": 34
        },
        "outputId": "c512923f-79da-4b61-e214-227db5d5da02"
      },
      "source": [
        "#indice de Calinski-Harabasz\n",
        "ch = calinski_harabasz_score(X,labels_hierarquico)\n",
        "ch"
      ],
      "execution_count": 56,
      "outputs": [
        {
          "output_type": "execute_result",
          "data": {
            "text/plain": [
              "69.74579167357409"
            ]
          },
          "metadata": {
            "tags": []
          },
          "execution_count": 56
        }
      ]
    },
    {
      "cell_type": "markdown",
      "metadata": {
        "id": "VC7t8LLPcwzE",
        "colab_type": "text"
      },
      "source": [
        "Os resultados do agrupamento hierárquico foram melhores, mas isso não quer dizer que tenham sido bons, os índices, coeficientes e scores continuaram muito baixos."
      ]
    },
    {
      "cell_type": "markdown",
      "metadata": {
        "id": "1hxGLSmXdBCN",
        "colab_type": "text"
      },
      "source": [
        "## 10. Interpretação final"
      ]
    },
    {
      "cell_type": "markdown",
      "metadata": {
        "id": "0FPaYZQSdEAY",
        "colab_type": "text"
      },
      "source": [
        "O agrupamento não foi bom para fazer a classificação desse problema, isso pode se dar por conta do problema não ser facilmente separável, como foi visto em alguns notebooks anteriores este problema é de difícil classificação com os atributos presentes no dataset, alguns atributos representando condições externas dos pacientes poderiam ajudar a melhorar essa classificação. Os índices de avaliação foram muito baixos para ambos os agrupamentos, então esse método não seria nem um pouco recomendado para o problema em questão e uma nova coleta de dados provavélmente seria necessária para fazer esta classificação."
      ]
    }
  ]
}